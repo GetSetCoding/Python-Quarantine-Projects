{
 "cells": [
  {
   "cell_type": "markdown",
   "metadata": {},
   "source": [
    "# Report "
   ]
  },
  {
   "cell_type": "markdown",
   "metadata": {},
   "source": [
    "##### LIBRARIES NEEDED"
   ]
  },
  {
   "cell_type": "code",
   "execution_count": 1,
   "metadata": {},
   "outputs": [],
   "source": [
    "import pandas as pd\n",
    "import numpy as np\n",
    "from sklearn.metrics import accuracy_score\n",
    "from sklearn.model_selection import train_test_split\n",
    "from sklearn.naive_bayes import MultinomialNB"
   ]
  },
  {
   "cell_type": "markdown",
   "metadata": {},
   "source": [
    "# 1. Multinomial Naive Bayes Classifier"
   ]
  },
  {
   "cell_type": "code",
   "execution_count": 2,
   "metadata": {},
   "outputs": [
    {
     "name": "stdout",
     "output_type": "stream",
     "text": [
      "Bots shape: (1056, 23)\n",
      "Nonbots shape: (1176, 23)\n",
      "DataFrames created...\n",
      "Randomly splitting the dataset into training and test, and training classifiers...\n",
      "\n"
     ]
    },
    {
     "data": {
      "text/plain": [
       "0.9060402684563759"
      ]
     },
     "execution_count": 2,
     "metadata": {},
     "output_type": "execute_result"
    }
   ],
   "source": [
    "bots = pd.read_csv('bots_data.csv',encoding='latin-1')\n",
    "nonbots = pd.read_csv('nonbots_data.csv',encoding='latin-1')\n",
    "#Creating Bots identifying condition\n",
    "condition = (bots.screen_name.str.contains(\"bot\", case=False)==True)|(bots.description.str.contains(\"bot\", case=False)==True)|(bots.location.isnull())|(bots.verified==False)\n",
    "\n",
    "bots['screen_name_binary'] = (bots.screen_name.str.contains(\"bot\", case=False)==True)\n",
    "bots['description_binary'] = (bots.description.str.contains(\"bot\", case=False)==True)\n",
    "#bots['location_binary'] = (bots.location.isnull())\n",
    "bots['verified_binary'] = (bots.verified==False)\n",
    "print(\"Bots shape: {0}\".format(bots.shape))\n",
    "\n",
    "#Creating NonBots identifying condition\n",
    "condition = (nonbots.screen_name.str.contains(\"bot\", case=False)==False)| (nonbots.description.str.contains(\"bot\", case=False)==False) |(nonbots.location.isnull()==False)|(nonbots.verified==True)\n",
    "\n",
    "nonbots['screen_name_binary'] = (nonbots.screen_name.str.contains(\"bot\", case=False)==False)\n",
    "nonbots['description_binary'] = (nonbots.description.str.contains(\"bot\", case=False)==False)\n",
    "#nonbots['location_binary'] = (nonbots.location.isnull()==False)\n",
    "nonbots['verified_binary'] = (nonbots.verified==True)\n",
    "print(\"Nonbots shape: {0}\".format(nonbots.shape))\n",
    "\n",
    "#Joining Bots and NonBots dataframes\n",
    "df = pd.concat([bots, nonbots])\n",
    "print(\"DataFrames created...\")\n",
    "#Splitting data randombly into train_df and test_df\n",
    "train_df, test_df = train_test_split(df, test_size=0.2)\n",
    "print(\"Randomly splitting the dataset into training and test, and training classifiers...\\n\")\n",
    "\n",
    "clf = MultinomialNB(alpha=1, fit_prior=True)\n",
    "\n",
    "#80%\n",
    "X_train = train_df[['screen_name_binary', 'description_binary',  'verified_binary']] #train_data\n",
    "y_train = train_df['bot'] #train_target\n",
    "\n",
    "#20%\n",
    "X_test = test_df[['screen_name_binary', 'description_binary',  'verified_binary']] #test_Data\n",
    "\n",
    "#Training on decision tree classifier\n",
    "model = clf.fit(X_train, y_train)\n",
    "\n",
    "prediction=model.predict(X_test)\n",
    "y_test=test_df['bot']\n",
    "accuracy_score(prediction,y_test)"
   ]
  },
  {
   "cell_type": "markdown",
   "metadata": {},
   "source": [
    "# 2. My Own Classifier"
   ]
  },
  {
   "cell_type": "code",
   "execution_count": 3,
   "metadata": {},
   "outputs": [
    {
     "data": {
      "text/plain": [
       "0.9653199856989632"
      ]
     },
     "execution_count": 3,
     "metadata": {},
     "output_type": "execute_result"
    }
   ],
   "source": [
    "from twitterbot import twitter_bot\n",
    "df1 = pd.read_csv('training_data_2_csv_UTF.csv')\n",
    "y_train1 = df1['bot']\n",
    "predicted = twitter_bot.bot_prediction_algorithm(df1)\n",
    "predicted.drop(['id'],inplace=True,axis=1)\n",
    "accuracy_score(y_train1,predicted)"
   ]
  }
 ],
 "metadata": {
  "kernelspec": {
   "display_name": "Python 3",
   "language": "python",
   "name": "python3"
  },
  "language_info": {
   "codemirror_mode": {
    "name": "ipython",
    "version": 3
   },
   "file_extension": ".py",
   "mimetype": "text/x-python",
   "name": "python",
   "nbconvert_exporter": "python",
   "pygments_lexer": "ipython3",
   "version": "3.7.3"
  }
 },
 "nbformat": 4,
 "nbformat_minor": 2
}
